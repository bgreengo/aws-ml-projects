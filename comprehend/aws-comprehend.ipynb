{
 "cells": [
  {
   "cell_type": "code",
   "execution_count": 1,
   "metadata": {},
   "outputs": [],
   "source": [
    "import boto3"
   ]
  },
  {
   "cell_type": "code",
   "execution_count": 2,
   "metadata": {},
   "outputs": [],
   "source": [
    "comprehend = boto3.client(\"comprehend\")"
   ]
  },
  {
   "cell_type": "code",
   "execution_count": 5,
   "metadata": {},
   "outputs": [
    {
     "data": {
      "text/plain": [
       "{'Sentiment': 'NEGATIVE',\n",
       " 'SentimentScore': {'Positive': 0.015781357884407043,\n",
       "  'Negative': 0.8856804370880127,\n",
       "  'Neutral': 0.08011685311794281,\n",
       "  'Mixed': 0.018421437591314316},\n",
       " 'ResponseMetadata': {'RequestId': '237d77fe-6d2a-11e9-bdd7-116ed305482e',\n",
       "  'HTTPStatusCode': 200,\n",
       "  'HTTPHeaders': {'x-amzn-requestid': '237d77fe-6d2a-11e9-bdd7-116ed305482e',\n",
       "   'content-type': 'application/x-amz-json-1.1',\n",
       "   'content-length': '164',\n",
       "   'date': 'Thu, 02 May 2019 22:32:15 GMT'},\n",
       "  'RetryAttempts': 0}}"
      ]
     },
     "execution_count": 5,
     "metadata": {},
     "output_type": "execute_result"
    }
   ],
   "source": [
    "comprehend.detect_sentiment(Text=\"My back really hurts\", LanguageCode=\"en\")"
   ]
  },
  {
   "cell_type": "code",
   "execution_count": null,
   "metadata": {},
   "outputs": [],
   "source": []
  }
 ],
 "metadata": {
  "kernelspec": {
   "display_name": "Python 3",
   "language": "python",
   "name": "python3"
  },
  "language_info": {
   "codemirror_mode": {
    "name": "ipython",
    "version": 3
   },
   "file_extension": ".py",
   "mimetype": "text/x-python",
   "name": "python",
   "nbconvert_exporter": "python",
   "pygments_lexer": "ipython3",
   "version": "3.7.2"
  }
 },
 "nbformat": 4,
 "nbformat_minor": 2
}

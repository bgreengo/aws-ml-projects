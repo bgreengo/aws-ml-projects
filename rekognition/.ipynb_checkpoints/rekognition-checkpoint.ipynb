{
 "cells": [
  {
   "cell_type": "code",
   "execution_count": 9,
   "metadata": {},
   "outputs": [
    {
     "name": "stdout",
     "output_type": "stream",
     "text": [
      "(\"Jimmy G's face at 0.4389863908290863 and the face at 0.20069345831871033 \"\n",
      " 'matches with 99.747314453125% confidence')\n"
     ]
    }
   ],
   "source": [
    "import boto3\n",
    "import pprint\n",
    " \n",
    "if __name__ == \"__main__\":\n",
    " \n",
    "    sourceFile='jimmyg.png'\n",
    "    targetFile='jimmyg2.png'\n",
    " \n",
    "    client=boto3.client('rekognition')\n",
    " \n",
    "    imageSource=open(sourceFile,'rb')\n",
    "    imageTarget=open(targetFile,'rb')\n",
    " \n",
    "response=client.compare_faces(SimilarityThreshold=20,\n",
    "                        SourceImage={'Bytes': imageSource.read()},\n",
    "                        TargetImage={'Bytes': imageTarget.read()})\n",
    " \n",
    "for faceMatch in response['FaceMatches']:\n",
    "    position = faceMatch['Face']['BoundingBox']\n",
    "    similarity = str(faceMatch['Similarity'])\n",
    "\n",
    "pprint.pprint(\"Jimmy G's face at \" +\n",
    "        str(position['Left']) +\n",
    "        \" and the face at \" +\n",
    "        str(position['Top']) +\n",
    "        \" matches with \" + similarity + '% confidence')\n",
    " \n",
    "imageSource.close()\n",
    "imageTarget.close()"
   ]
  },
  {
   "cell_type": "code",
   "execution_count": null,
   "metadata": {},
   "outputs": [],
   "source": []
  }
 ],
 "metadata": {
  "kernelspec": {
   "display_name": "Python 3",
   "language": "python",
   "name": "python3"
  },
  "language_info": {
   "codemirror_mode": {
    "name": "ipython",
    "version": 3
   },
   "file_extension": ".py",
   "mimetype": "text/x-python",
   "name": "python",
   "nbconvert_exporter": "python",
   "pygments_lexer": "ipython3",
   "version": "3.7.3"
  }
 },
 "nbformat": 4,
 "nbformat_minor": 2
}

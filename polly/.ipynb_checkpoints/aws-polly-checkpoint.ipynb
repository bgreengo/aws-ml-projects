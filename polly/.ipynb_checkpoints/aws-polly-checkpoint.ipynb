{
 "cells": [
  {
   "cell_type": "code",
   "execution_count": 3,
   "metadata": {},
   "outputs": [],
   "source": [
    "import os\n",
    "import boto3\n",
    "import pyaudio\n",
    "\n",
    "polly = boto3.client(\"polly\")\n",
    "audio = pyaudio.PyAudio()\n",
    "\n",
    "def speak(text, voice):\n",
    "    resp = polly.synthesize_speech(\n",
    "        Text=text,\n",
    "        TextType=\"text\",\n",
    "        OutputFormat=\"pcm\",\n",
    "        VoiceId=voice\n",
    "    )\n",
    "    stream = audio.open(\n",
    "        format=audio.get_format_from_width(width=2),\n",
    "        channels=1, rate=16000, output=True\n",
    "    )\n",
    "    stream.write(resp['AudioStream'].read())\n",
    "    stream.stop_stream()\n",
    "    stream.close()"
   ]
  },
  {
   "cell_type": "code",
   "execution_count": 17,
   "metadata": {},
   "outputs": [],
   "source": [
    "speak(\"Welcome to the green go cloud website and thank you for visiting\", \"Miguel\")"
   ]
  },
  {
   "cell_type": "code",
   "execution_count": null,
   "metadata": {},
   "outputs": [],
   "source": []
  }
 ],
 "metadata": {
  "kernelspec": {
   "display_name": "Python 3",
   "language": "python",
   "name": "python3"
  },
  "language_info": {
   "codemirror_mode": {
    "name": "ipython",
    "version": 3
   },
   "file_extension": ".py",
   "mimetype": "text/x-python",
   "name": "python",
   "nbconvert_exporter": "python",
   "pygments_lexer": "ipython3",
   "version": "3.7.2"
  }
 },
 "nbformat": 4,
 "nbformat_minor": 2
}
